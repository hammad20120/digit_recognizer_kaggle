{
 "cells": [
  {
   "cell_type": "code",
   "execution_count": 1,
   "metadata": {},
   "outputs": [],
   "source": [
    "from numpy import genfromtxt\n",
    "import numpy as np"
   ]
  },
  {
   "cell_type": "code",
   "execution_count": 2,
   "metadata": {},
   "outputs": [],
   "source": [
    "train_data = genfromtxt('train.csv',usecols=range(1,785), delimiter=',', dtype=int)"
   ]
  },
  {
   "cell_type": "code",
   "execution_count": 3,
   "metadata": {},
   "outputs": [
    {
     "output_type": "execute_result",
     "data": {
      "text/plain": "(42001, 784)"
     },
     "metadata": {},
     "execution_count": 3
    }
   ],
   "source": [
    "train_data.shape"
   ]
  },
  {
   "cell_type": "code",
   "execution_count": 4,
   "metadata": {},
   "outputs": [],
   "source": [
    "train_data = train_data[1:]"
   ]
  },
  {
   "cell_type": "code",
   "execution_count": 5,
   "metadata": {},
   "outputs": [],
   "source": [
    "train_label = genfromtxt('train.csv',usecols=range(0,1), delimiter=',', dtype=int)"
   ]
  },
  {
   "cell_type": "code",
   "execution_count": 12,
   "metadata": {},
   "outputs": [],
   "source": [
    "train_label = train_label[1:]"
   ]
  },
  {
   "cell_type": "code",
   "execution_count": 7,
   "metadata": {
    "tags": []
   },
   "outputs": [
    {
     "output_type": "stream",
     "name": "stderr",
     "text": "Using TensorFlow backend.\n"
    }
   ],
   "source": [
    "import tensorflow as tf\n",
    "from tensorflow import keras\n",
    "from tensorflow.keras import layers\n",
    "from keras.optimizers import Adam "
   ]
  },
  {
   "cell_type": "code",
   "execution_count": 8,
   "metadata": {},
   "outputs": [],
   "source": [
    "test = tf"
   ]
  },
  {
   "cell_type": "code",
   "execution_count": 9,
   "metadata": {},
   "outputs": [],
   "source": [
    "model = keras.models.Sequential()\n",
    "model.add( layers.Dense(32, activation='relu', input_shape=([784])) ) \n",
    "model.add( layers.Dense(64, activation='relu') ) \n",
    "model.add( layers.Dense(128, activation='relu') ) \n",
    "model.add( layers.Dense(10, activation='softmax') ) "
   ]
  },
  {
   "cell_type": "code",
   "execution_count": 10,
   "metadata": {
    "tags": []
   },
   "outputs": [
    {
     "output_type": "stream",
     "name": "stdout",
     "text": "Model: \"sequential\"\n_________________________________________________________________\nLayer (type)                 Output Shape              Param #   \n=================================================================\ndense (Dense)                (None, 32)                25120     \n_________________________________________________________________\ndense_1 (Dense)              (None, 64)                2112      \n_________________________________________________________________\ndense_2 (Dense)              (None, 128)               8320      \n_________________________________________________________________\ndense_3 (Dense)              (None, 10)                1290      \n=================================================================\nTotal params: 36,842\nTrainable params: 36,842\nNon-trainable params: 0\n_________________________________________________________________\n"
    }
   ],
   "source": [
    "model.summary()"
   ]
  },
  {
   "cell_type": "code",
   "execution_count": 11,
   "metadata": {},
   "outputs": [],
   "source": [
    "model.compile(loss='sparse_categorical_crossentropy', optimizer=Adam(learning_rate=0.001), metrics=['accuracy'])"
   ]
  },
  {
   "cell_type": "code",
   "execution_count": 14,
   "metadata": {
    "tags": []
   },
   "outputs": [
    {
     "output_type": "stream",
     "name": "stdout",
     "text": "Train on 42000 samples\nEpoch 1/10\n42000/42000 [==============================] - 10s 231us/sample - loss: 1.0413 - accuracy: 0.7538\nEpoch 2/10\n42000/42000 [==============================] - 9s 209us/sample - loss: 0.3923 - accuracy: 0.8941\nEpoch 3/10\n42000/42000 [==============================] - 10s 236us/sample - loss: 0.3012 - accuracy: 0.9146\nEpoch 4/10\n42000/42000 [==============================] - 9s 224us/sample - loss: 0.2570 - accuracy: 0.9270\nEpoch 5/10\n42000/42000 [==============================] - 10s 234us/sample - loss: 0.2249 - accuracy: 0.9368\nEpoch 6/10\n42000/42000 [==============================] - 10s 237us/sample - loss: 0.2095 - accuracy: 0.9409\nEpoch 7/10\n42000/42000 [==============================] - 9s 215us/sample - loss: 0.1981 - accuracy: 0.9430\nEpoch 8/10\n42000/42000 [==============================] - 10s 236us/sample - loss: 0.1863 - accuracy: 0.9478\nEpoch 9/10\n42000/42000 [==============================] - 9s 219us/sample - loss: 0.1770 - accuracy: 0.9498\nEpoch 10/10\n42000/42000 [==============================] - 9s 217us/sample - loss: 0.1714 - accuracy: 0.9503\n"
    }
   ],
   "source": [
    "history = model.fit(train_data, train_label,batch_size=20, epochs=10, verbose=1)"
   ]
  },
  {
   "cell_type": "code",
   "execution_count": 15,
   "metadata": {},
   "outputs": [],
   "source": [
    "test_data = genfromtxt('test.csv', delimiter=',', dtype=int)\n",
    "test_data = test_data[1:]"
   ]
  },
  {
   "cell_type": "code",
   "execution_count": 17,
   "metadata": {},
   "outputs": [],
   "source": [
    "predictions = model.predict_classes(np.array(test_data))"
   ]
  },
  {
   "cell_type": "code",
   "execution_count": 19,
   "metadata": {},
   "outputs": [],
   "source": [
    "import pandas as pd"
   ]
  },
  {
   "cell_type": "code",
   "execution_count": 20,
   "metadata": {},
   "outputs": [],
   "source": [
    "indexes = [(i+1) for i in range(0,len(predictions)) ]"
   ]
  },
  {
   "cell_type": "code",
   "execution_count": 21,
   "metadata": {},
   "outputs": [],
   "source": [
    "df = pd.DataFrame(data=indexes, columns=[\"ImageId\"])"
   ]
  },
  {
   "cell_type": "code",
   "execution_count": 22,
   "metadata": {},
   "outputs": [],
   "source": [
    "df['Label'] = predictions"
   ]
  },
  {
   "cell_type": "code",
   "execution_count": 23,
   "metadata": {},
   "outputs": [],
   "source": [
    "df.to_csv('resTest.csv', index=False)"
   ]
  },
  {
   "cell_type": "code",
   "execution_count": 48,
   "metadata": {},
   "outputs": [],
   "source": [
    "data=np.zeros((train_data.shape[0],28,28,1))"
   ]
  },
  {
   "cell_type": "code",
   "execution_count": 29,
   "metadata": {},
   "outputs": [],
   "source": [
    "from PIL import Image"
   ]
  },
  {
   "cell_type": "code",
   "execution_count": 50,
   "metadata": {},
   "outputs": [],
   "source": [
    "img2d = np.reshape(train_data, (-1,28,28,1))"
   ]
  },
  {
   "cell_type": "code",
   "execution_count": 58,
   "metadata": {},
   "outputs": [],
   "source": [
    "model2 = keras.models.Sequential()\n",
    "model2.add( layers.Conv2D(32,(3,3), activation='relu', input_shape=(28,28,1)))\n",
    "model2.add( layers.MaxPooling2D( (2,2) ) )\n",
    "model2.add( layers.Conv2D(64,(3,3), activation='relu'))\n",
    "model2.add( layers.MaxPooling2D((2,2)))\n",
    "model2.add( layers.Conv2D(128,(3,3), activation='relu'))\n",
    "model2.add( layers.MaxPooling2D((2,2)))\n",
    "model2.add( layers.Flatten())\n",
    "model2.add( layers.Dropout(0.5))\n",
    "model2.add( layers.Dense(512, activation='relu'))\n",
    "model2.add( layers.Dense(10, activation='softmax'))"
   ]
  },
  {
   "cell_type": "code",
   "execution_count": 59,
   "metadata": {},
   "outputs": [],
   "source": [
    "model2.compile(loss='sparse_categorical_crossentropy', optimizer=Adam(learning_rate=0.001), metrics=['accuracy'])"
   ]
  },
  {
   "cell_type": "code",
   "execution_count": 66,
   "metadata": {
    "tags": []
   },
   "outputs": [
    {
     "output_type": "stream",
     "name": "stdout",
     "text": "Train on 42000 samples\nEpoch 1/30\n42000/42000 [==============================] - 8s 180us/sample - loss: 0.0474 - accuracy: 0.9867\nEpoch 2/30\n42000/42000 [==============================] - 7s 177us/sample - loss: 0.0531 - accuracy: 0.9849\nEpoch 3/30\n42000/42000 [==============================] - 9s 207us/sample - loss: 0.0513 - accuracy: 0.9855\nEpoch 4/30\n42000/42000 [==============================] - 9s 212us/sample - loss: 0.0487 - accuracy: 0.9862\nEpoch 5/30\n42000/42000 [==============================] - 8s 198us/sample - loss: 0.0470 - accuracy: 0.9866\nEpoch 6/30\n42000/42000 [==============================] - 9s 203us/sample - loss: 0.0502 - accuracy: 0.9870\nEpoch 7/30\n42000/42000 [==============================] - 8s 197us/sample - loss: 0.0457 - accuracy: 0.9870\nEpoch 8/30\n42000/42000 [==============================] - 7s 177us/sample - loss: 0.0476 - accuracy: 0.9864\nEpoch 9/30\n42000/42000 [==============================] - 8s 182us/sample - loss: 0.0425 - accuracy: 0.9880\nEpoch 10/30\n42000/42000 [==============================] - 7s 179us/sample - loss: 0.0410 - accuracy: 0.9891\nEpoch 11/30\n42000/42000 [==============================] - 8s 184us/sample - loss: 0.0440 - accuracy: 0.9884\nEpoch 12/30\n42000/42000 [==============================] - 8s 183us/sample - loss: 0.0449 - accuracy: 0.9876\nEpoch 13/30\n42000/42000 [==============================] - 8s 189us/sample - loss: 0.0421 - accuracy: 0.9883\nEpoch 14/30\n42000/42000 [==============================] - 8s 184us/sample - loss: 0.0465 - accuracy: 0.9874\nEpoch 15/30\n42000/42000 [==============================] - 8s 186us/sample - loss: 0.0471 - accuracy: 0.9880\nEpoch 16/30\n42000/42000 [==============================] - 9s 211us/sample - loss: 0.0418 - accuracy: 0.9886\nEpoch 17/30\n42000/42000 [==============================] - 8s 181us/sample - loss: 0.0439 - accuracy: 0.9886\nEpoch 18/30\n42000/42000 [==============================] - 8s 187us/sample - loss: 0.0392 - accuracy: 0.9895\nEpoch 19/30\n42000/42000 [==============================] - 8s 186us/sample - loss: 0.0430 - accuracy: 0.9888\nEpoch 20/30\n42000/42000 [==============================] - 8s 199us/sample - loss: 0.0461 - accuracy: 0.9884\nEpoch 21/30\n42000/42000 [==============================] - 8s 185us/sample - loss: 0.0456 - accuracy: 0.9887\nEpoch 22/30\n42000/42000 [==============================] - 8s 183us/sample - loss: 0.0379 - accuracy: 0.9899\nEpoch 23/30\n42000/42000 [==============================] - 8s 184us/sample - loss: 0.0369 - accuracy: 0.9905\nEpoch 24/30\n42000/42000 [==============================] - 8s 182us/sample - loss: 0.0481 - accuracy: 0.9877\nEpoch 25/30\n42000/42000 [==============================] - 8s 184us/sample - loss: 0.0471 - accuracy: 0.9883\nEpoch 26/30\n42000/42000 [==============================] - 8s 185us/sample - loss: 0.0368 - accuracy: 0.9900\nEpoch 27/30\n42000/42000 [==============================] - 8s 185us/sample - loss: 0.0379 - accuracy: 0.9901\nEpoch 28/30\n42000/42000 [==============================] - 8s 182us/sample - loss: 0.0414 - accuracy: 0.9894\nEpoch 29/30\n42000/42000 [==============================] - 8s 185us/sample - loss: 0.0346 - accuracy: 0.9910\nEpoch 30/30\n42000/42000 [==============================] - 8s 183us/sample - loss: 0.0381 - accuracy: 0.9905\n"
    }
   ],
   "source": [
    "history2 = model2.fit(img2d, train_label,batch_size=40, epochs=30, verbose=1)"
   ]
  },
  {
   "cell_type": "code",
   "execution_count": 67,
   "metadata": {},
   "outputs": [],
   "source": [
    "predictions = model.predict_classes(np.array(test_data))"
   ]
  },
  {
   "cell_type": "code",
   "execution_count": 68,
   "metadata": {},
   "outputs": [],
   "source": [
    "indexes = [(i+1) for i in range(0,len(predictions)) ]\n",
    "df = pd.DataFrame(data=indexes, columns=[\"ImageId\"])\n",
    "df['Label'] = predictions\n",
    "df.to_csv('resTest.csv', index=False)"
   ]
  },
  {
   "cell_type": "code",
   "execution_count": null,
   "metadata": {},
   "outputs": [],
   "source": []
  }
 ],
 "metadata": {
  "language_info": {
   "codemirror_mode": {
    "name": "ipython",
    "version": 3
   },
   "file_extension": ".py",
   "mimetype": "text/x-python",
   "name": "python",
   "nbconvert_exporter": "python",
   "pygments_lexer": "ipython3",
   "version": "3.7.7-final"
  },
  "orig_nbformat": 2,
  "kernelspec": {
   "name": "tensorflow",
   "display_name": "tensorflow"
  }
 },
 "nbformat": 4,
 "nbformat_minor": 2
}